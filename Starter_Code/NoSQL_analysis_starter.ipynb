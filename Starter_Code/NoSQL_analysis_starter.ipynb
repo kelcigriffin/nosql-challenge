{
 "cells": [
  {
   "cell_type": "markdown",
   "id": "9a57c4c6",
   "metadata": {},
   "source": [
    "# Eat Safe, Love"
   ]
  },
  {
   "cell_type": "markdown",
   "id": "064ef857",
   "metadata": {},
   "source": [
    "## Notebook Set Up"
   ]
  },
  {
   "cell_type": "code",
   "execution_count": 157,
   "id": "3ecdd008",
   "metadata": {},
   "outputs": [],
   "source": [
    "# Import dependencies\n",
    "from pymongo import MongoClient\n",
    "from pprint import pprint\n",
    "import pandas as pd"
   ]
  },
  {
   "cell_type": "code",
   "execution_count": 158,
   "id": "59390c4a",
   "metadata": {},
   "outputs": [],
   "source": [
    "# Create an instance of MongoClient\n",
    "mongo = MongoClient(port=27017)"
   ]
  },
  {
   "cell_type": "code",
   "execution_count": 159,
   "id": "71e373c1",
   "metadata": {},
   "outputs": [],
   "source": [
    "# assign the uk_food database to a variable name\n",
    "db = mongo['uk_food']"
   ]
  },
  {
   "cell_type": "code",
   "execution_count": 160,
   "id": "18ab463c",
   "metadata": {},
   "outputs": [
    {
     "data": {
      "text/plain": [
       "['establishments']"
      ]
     },
     "execution_count": 160,
     "metadata": {},
     "output_type": "execute_result"
    }
   ],
   "source": [
    "# review the collections in our database\n",
    "db.list_collection_names()"
   ]
  },
  {
   "cell_type": "code",
   "execution_count": 161,
   "id": "11c9f11b",
   "metadata": {},
   "outputs": [],
   "source": [
    "# assign the collection to a variable\n",
    "establishments = db['establishments']"
   ]
  },
  {
   "cell_type": "markdown",
   "id": "d5671434",
   "metadata": {},
   "source": [
    "## Part 3: Exploratory Analysis\n",
    "Unless otherwise stated, for each question: \n",
    "* Use `count_documents` to display the number of documents contained in the result.\n",
    "* Display the first document in the results using `pprint`.\n",
    "* Convert the result to a Pandas DataFrame, print the number of rows in the DataFrame, and display the first 10 rows."
   ]
  },
  {
   "cell_type": "markdown",
   "id": "314bd884",
   "metadata": {},
   "source": [
    "### 1. Which establishments have a hygiene score equal to 20?"
   ]
  },
  {
   "cell_type": "code",
   "execution_count": 162,
   "id": "c2da7648",
   "metadata": {},
   "outputs": [
    {
     "name": "stdout",
     "output_type": "stream",
     "text": [
      "Number of establishments with a hygiene score of 20: 41\n",
      "{'BusinessName': 'The Chase Rest Home'}\n"
     ]
    }
   ],
   "source": [
    "# Find the establishments with a hygiene score of 20\n",
    "hygiene_score = 20\n",
    "query = {\"scores.Hygiene\": hygiene_score}\n",
    "parameters = {\"BusinessName\": 1, \"_id\": 0}\n",
    "code_return = establishments.find(query, parameters)\n",
    "\n",
    "##//test code to make sure the query worked properly\\\\##\n",
    "# for document in code_return:\n",
    "#     pprint(document)\n",
    "\n",
    "# Use count_documents to display the number of documents in the result\n",
    "result_count = establishments.count_documents(query)\n",
    "print(f\"Number of establishments with a hygiene score of {hygiene_score}: {result_count}\")\n",
    "# Display the first document in the results using pprint\n",
    "first_document = code_return.next()\n",
    "pprint(first_document)"
   ]
  },
  {
   "cell_type": "code",
   "execution_count": 163,
   "id": "a6e5cece",
   "metadata": {},
   "outputs": [
    {
     "name": "stdout",
     "output_type": "stream",
     "text": [
      "Number of rows: 40\n"
     ]
    },
    {
     "data": {
      "text/html": [
       "<div>\n",
       "<style scoped>\n",
       "    .dataframe tbody tr th:only-of-type {\n",
       "        vertical-align: middle;\n",
       "    }\n",
       "\n",
       "    .dataframe tbody tr th {\n",
       "        vertical-align: top;\n",
       "    }\n",
       "\n",
       "    .dataframe thead th {\n",
       "        text-align: right;\n",
       "    }\n",
       "</style>\n",
       "<table border=\"1\" class=\"dataframe\">\n",
       "  <thead>\n",
       "    <tr style=\"text-align: right;\">\n",
       "      <th></th>\n",
       "      <th>BusinessName</th>\n",
       "    </tr>\n",
       "  </thead>\n",
       "  <tbody>\n",
       "    <tr>\n",
       "      <th>0</th>\n",
       "      <td>Brenalwood</td>\n",
       "    </tr>\n",
       "    <tr>\n",
       "      <th>1</th>\n",
       "      <td>Melrose Hotel</td>\n",
       "    </tr>\n",
       "    <tr>\n",
       "      <th>2</th>\n",
       "      <td>Seaford Pizza</td>\n",
       "    </tr>\n",
       "    <tr>\n",
       "      <th>3</th>\n",
       "      <td>Golden Palace</td>\n",
       "    </tr>\n",
       "    <tr>\n",
       "      <th>4</th>\n",
       "      <td>Ashby's Butchers</td>\n",
       "    </tr>\n",
       "    <tr>\n",
       "      <th>5</th>\n",
       "      <td>South Sea Express Cuisine</td>\n",
       "    </tr>\n",
       "    <tr>\n",
       "      <th>6</th>\n",
       "      <td>Golden Palace</td>\n",
       "    </tr>\n",
       "    <tr>\n",
       "      <th>7</th>\n",
       "      <td>The Tulip Tree</td>\n",
       "    </tr>\n",
       "    <tr>\n",
       "      <th>8</th>\n",
       "      <td>F &amp; S</td>\n",
       "    </tr>\n",
       "    <tr>\n",
       "      <th>9</th>\n",
       "      <td>Longhouse</td>\n",
       "    </tr>\n",
       "  </tbody>\n",
       "</table>\n",
       "</div>"
      ],
      "text/plain": [
       "                BusinessName\n",
       "0                 Brenalwood\n",
       "1              Melrose Hotel\n",
       "2              Seaford Pizza\n",
       "3              Golden Palace\n",
       "4           Ashby's Butchers\n",
       "5  South Sea Express Cuisine\n",
       "6              Golden Palace\n",
       "7             The Tulip Tree\n",
       "8                      F & S\n",
       "9                  Longhouse"
      ]
     },
     "execution_count": 163,
     "metadata": {},
     "output_type": "execute_result"
    }
   ],
   "source": [
    "# Convert the result to a Pandas DataFrame\n",
    "df = pd.DataFrame(code_return)\n",
    "# Display the number of rows in the DataFrame\n",
    "num_rows = len(df)\n",
    "print(f\"Number of rows: {num_rows}\")\n",
    "\n",
    "# Display the first 10 rows of the DataFrame\n",
    "df.head(10)"
   ]
  },
  {
   "cell_type": "markdown",
   "id": "0ef4395a",
   "metadata": {},
   "source": [
    "### 2. Which establishments in London have a `RatingValue` greater than or equal to 4?"
   ]
  },
  {
   "cell_type": "code",
   "execution_count": 154,
   "id": "93c63829",
   "metadata": {},
   "outputs": [
    {
     "name": "stdout",
     "output_type": "stream",
     "text": [
      "Number of establishments in City of London Corporation with a RatingValue greater than or equal to 4: 33\n",
      "{'BusinessName': \"Charlie's\"}\n"
     ]
    }
   ],
   "source": [
    "### another way to code this without using regex###\n",
    "# Find the establishments with London as the Local Authority and has a RatingValue greater than or equal to 4.\n",
    "local_authority = \"City of London Corporation\"\n",
    "min_rating_value = 4\n",
    "query = {\n",
    "    \"LocalAuthorityName\": local_authority,\n",
    "    \"RatingValue\": {\"$gte\": min_rating_value}\n",
    "}\n",
    "parameters = {\"BusinessName\": 1, \"_id\": 0}\n",
    "code_return = establishments.find(query, parameters)\n",
    "# Use count_documents to display the number of documents in the result\n",
    "result_count = establishments.count_documents(query)\n",
    "print(f\"Number of establishments in {local_authority} with a RatingValue greater than or equal to {min_rating_value}: {result_count}\")\n",
    "# Display the first document in the results using pprint\n",
    "first_document = code_return.next()\n",
    "pprint(first_document)\n"
   ]
  },
  {
   "cell_type": "code",
   "execution_count": 155,
   "id": "07998d39",
   "metadata": {},
   "outputs": [
    {
     "name": "stdout",
     "output_type": "stream",
     "text": [
      "33\n",
      "{'BusinessName': \"Charlie's\"}\n"
     ]
    }
   ],
   "source": [
    "# Find the establishments with London as the Local Authority and has a RatingValue greater than or equal to 4.\n",
    "query = {\n",
    "    \"RatingValue\": {\"$gte\":4}, \n",
    "    \"LocalAuthorityName\": {\"$regex\": \"City of London Corporation\"}\n",
    "}\n",
    "parameters = {\"BusinessName\": 1, \"_id\": 0}\n",
    "code_return = establishments.find(query, parameters)\n",
    "# Use count_documents to display the number of documents in the result\n",
    "result_count = establishments.count_documents(query)\n",
    "print(result_count)\n",
    "# Display the first document in the results using pprint\n",
    "first_document = code_return.next()\n",
    "pprint(first_document)\n"
   ]
  },
  {
   "cell_type": "code",
   "execution_count": 156,
   "id": "07e24ccb",
   "metadata": {},
   "outputs": [
    {
     "name": "stdout",
     "output_type": "stream",
     "text": [
      "32\n"
     ]
    },
    {
     "data": {
      "text/html": [
       "<div>\n",
       "<style scoped>\n",
       "    .dataframe tbody tr th:only-of-type {\n",
       "        vertical-align: middle;\n",
       "    }\n",
       "\n",
       "    .dataframe tbody tr th {\n",
       "        vertical-align: top;\n",
       "    }\n",
       "\n",
       "    .dataframe thead th {\n",
       "        text-align: right;\n",
       "    }\n",
       "</style>\n",
       "<table border=\"1\" class=\"dataframe\">\n",
       "  <thead>\n",
       "    <tr style=\"text-align: right;\">\n",
       "      <th></th>\n",
       "      <th>BusinessName</th>\n",
       "    </tr>\n",
       "  </thead>\n",
       "  <tbody>\n",
       "    <tr>\n",
       "      <th>0</th>\n",
       "      <td>Mv City Cruises Erasmus</td>\n",
       "    </tr>\n",
       "    <tr>\n",
       "      <th>1</th>\n",
       "      <td>Benfleet Motor Yacht Club</td>\n",
       "    </tr>\n",
       "    <tr>\n",
       "      <th>2</th>\n",
       "      <td>Coombs Catering t/a The Lock and Key</td>\n",
       "    </tr>\n",
       "    <tr>\n",
       "      <th>3</th>\n",
       "      <td>Tilbury Seafarers Centre</td>\n",
       "    </tr>\n",
       "    <tr>\n",
       "      <th>4</th>\n",
       "      <td>Mv Valulla</td>\n",
       "    </tr>\n",
       "    <tr>\n",
       "      <th>5</th>\n",
       "      <td>Tereza Joanne</td>\n",
       "    </tr>\n",
       "    <tr>\n",
       "      <th>6</th>\n",
       "      <td>Brick Lane Brews</td>\n",
       "    </tr>\n",
       "    <tr>\n",
       "      <th>7</th>\n",
       "      <td>The Nuance Group (UK) Limited</td>\n",
       "    </tr>\n",
       "    <tr>\n",
       "      <th>8</th>\n",
       "      <td>City Bar &amp; Grill</td>\n",
       "    </tr>\n",
       "    <tr>\n",
       "      <th>9</th>\n",
       "      <td>WH Smith</td>\n",
       "    </tr>\n",
       "  </tbody>\n",
       "</table>\n",
       "</div>"
      ],
      "text/plain": [
       "                           BusinessName\n",
       "0               Mv City Cruises Erasmus\n",
       "1             Benfleet Motor Yacht Club\n",
       "2  Coombs Catering t/a The Lock and Key\n",
       "3              Tilbury Seafarers Centre\n",
       "4                            Mv Valulla\n",
       "5                         Tereza Joanne\n",
       "6                      Brick Lane Brews\n",
       "7         The Nuance Group (UK) Limited\n",
       "8                      City Bar & Grill\n",
       "9                              WH Smith"
      ]
     },
     "execution_count": 156,
     "metadata": {},
     "output_type": "execute_result"
    }
   ],
   "source": [
    "# Convert the result to a Pandas DataFrame\n",
    "df = pd.DataFrame(code_return)\n",
    "# Display the number of rows in the DataFrame\n",
    "num_rows = (len(df))\n",
    "print(num_rows)\n",
    "# Display the first 10 rows of the DataFrame\n",
    "df.head(10)"
   ]
  },
  {
   "attachments": {},
   "cell_type": "markdown",
   "id": "4e570caf",
   "metadata": {},
   "source": [
    "### 3. What are the top 5 establishments with a `RatingValue` rating value of 5, sorted by lowest hygiene score, nearest to the new restaurant added, \"Penang Flavours\"?"
   ]
  },
  {
   "cell_type": "code",
   "execution_count": 182,
   "id": "7f599f3d",
   "metadata": {},
   "outputs": [
    {
     "name": "stdout",
     "output_type": "stream",
     "text": [
      "[]\n",
      "[{'BusinessName': 'BR6', 'RatingValue': 5, 'scores': {'Hygiene': 0}},\n",
      " {'BusinessName': 'Borna', 'RatingValue': 5, 'scores': {'Hygiene': 0}},\n",
      " {'BusinessName': 'Waterside Primary School',\n",
      "  'RatingValue': 5,\n",
      "  'scores': {'Hygiene': 0}},\n",
      " {'BusinessName': 'Catering & Hospitality Education Dep',\n",
      "  'RatingValue': 5,\n",
      "  'scores': {'Hygiene': 0}},\n",
      " {'BusinessName': 'Greenwich Islamic Centre',\n",
      "  'RatingValue': 5,\n",
      "  'scores': {'Hygiene': 0}}]\n"
     ]
    }
   ],
   "source": [
    "# Search within 0.01 degree on either side of the latitude and longitude.\n",
    "# Rating value must equal 5\n",
    "# Sort by hygiene score\n",
    "# Penang Flavours: 'latitude': 51.490142, 'longitude': 0.08384\n",
    "degree_search = 0.01\n",
    "latitude = 0.08384\n",
    "longitude = 51.490142\n",
    "\n",
    "query = {\"RatingValue\": {\"$eq\":5}, \n",
    "         \"geocode.latitude\": {\"$gt\": (latitude - degree_search), \"$lt\": (latitude + degree_search)},\n",
    "         \"geocode.longitude\": {\"$gt\": (longitude - degree_search), \"$lt\": (longitude + degree_search)}\n",
    "         }\n",
    "sort =  [(\"scores.Hygiene\", 1)]\n",
    "limit = 5\n",
    "\n",
    "# Print the results\n",
    "topFive = list(establishments.find(query).limit(limit))\n",
    "pprint(topFive)\n",
    "\n",
    "\n",
    "## I can't figure out why the above lines return an empty list... the code below appears to work better\n",
    "degree_search = 0.01\n",
    "latitude = 51.49\n",
    "longitude = 0.08\n",
    "\n",
    "# Construct the query\n",
    "query = {\n",
    "    \"RatingValue\": {\"$eq\": 5},\n",
    "    \"geocode\": {\n",
    "        \"$near\": [longitude, latitude],\n",
    "        \"$maxDistance\": degree_search\n",
    "    }\n",
    "}\n",
    "projection = {\"BusinessName\": 1, \"scores.Hygiene\": 1, \"RatingValue\": 1, \"_id\": 0}\n",
    "sort =  [(\"scores.Hygiene\", 1)]\n",
    "# Print the results\n",
    "topFive = list(establishments.find(query, projection).sort(sort).limit(5))\n",
    "pprint(topFive)"
   ]
  },
  {
   "cell_type": "code",
   "execution_count": 169,
   "id": "a6ad16f7",
   "metadata": {},
   "outputs": [
    {
     "data": {
      "text/html": [
       "<div>\n",
       "<style scoped>\n",
       "    .dataframe tbody tr th:only-of-type {\n",
       "        vertical-align: middle;\n",
       "    }\n",
       "\n",
       "    .dataframe tbody tr th {\n",
       "        vertical-align: top;\n",
       "    }\n",
       "\n",
       "    .dataframe thead th {\n",
       "        text-align: right;\n",
       "    }\n",
       "</style>\n",
       "<table border=\"1\" class=\"dataframe\">\n",
       "  <thead>\n",
       "    <tr style=\"text-align: right;\">\n",
       "      <th></th>\n",
       "      <th>BusinessName</th>\n",
       "      <th>RatingValue</th>\n",
       "      <th>scores</th>\n",
       "    </tr>\n",
       "  </thead>\n",
       "  <tbody>\n",
       "    <tr>\n",
       "      <th>0</th>\n",
       "      <td>BR6</td>\n",
       "      <td>5</td>\n",
       "      <td>{'Hygiene': 0}</td>\n",
       "    </tr>\n",
       "    <tr>\n",
       "      <th>1</th>\n",
       "      <td>Borna</td>\n",
       "      <td>5</td>\n",
       "      <td>{'Hygiene': 0}</td>\n",
       "    </tr>\n",
       "    <tr>\n",
       "      <th>2</th>\n",
       "      <td>Waterside Primary School</td>\n",
       "      <td>5</td>\n",
       "      <td>{'Hygiene': 0}</td>\n",
       "    </tr>\n",
       "    <tr>\n",
       "      <th>3</th>\n",
       "      <td>Catering &amp; Hospitality Education Dep</td>\n",
       "      <td>5</td>\n",
       "      <td>{'Hygiene': 0}</td>\n",
       "    </tr>\n",
       "    <tr>\n",
       "      <th>4</th>\n",
       "      <td>Greenwich Islamic Centre</td>\n",
       "      <td>5</td>\n",
       "      <td>{'Hygiene': 0}</td>\n",
       "    </tr>\n",
       "  </tbody>\n",
       "</table>\n",
       "</div>"
      ],
      "text/plain": [
       "                           BusinessName  RatingValue          scores\n",
       "0                                   BR6            5  {'Hygiene': 0}\n",
       "1                                 Borna            5  {'Hygiene': 0}\n",
       "2              Waterside Primary School            5  {'Hygiene': 0}\n",
       "3  Catering & Hospitality Education Dep            5  {'Hygiene': 0}\n",
       "4              Greenwich Islamic Centre            5  {'Hygiene': 0}"
      ]
     },
     "execution_count": 169,
     "metadata": {},
     "output_type": "execute_result"
    }
   ],
   "source": [
    "# Convert result to Pandas DataFrame\n",
    "df = pd.DataFrame(topFive)\n",
    "df"
   ]
  },
  {
   "cell_type": "markdown",
   "id": "67281254",
   "metadata": {},
   "source": [
    "### 4. How many establishments in each Local Authority area have a hygiene score of 0?"
   ]
  },
  {
   "cell_type": "code",
   "execution_count": 179,
   "id": "4eeb227e",
   "metadata": {},
   "outputs": [
    {
     "name": "stdout",
     "output_type": "stream",
     "text": [
      "16827\n",
      "[{'_id': 'Thanet', 'count': 1130},\n",
      " {'_id': 'Greenwich', 'count': 882},\n",
      " {'_id': 'Maidstone', 'count': 713},\n",
      " {'_id': 'Newham', 'count': 711},\n",
      " {'_id': 'Swale', 'count': 686},\n",
      " {'_id': 'Chelmsford', 'count': 680},\n",
      " {'_id': 'Medway', 'count': 672},\n",
      " {'_id': 'Bexley', 'count': 607},\n",
      " {'_id': 'Southend-On-Sea', 'count': 586},\n",
      " {'_id': 'Tendring', 'count': 542}]\n"
     ]
    }
   ],
   "source": [
    "# Create a pipeline that: \n",
    "# 1. Matches establishments with a hygiene score of 0\n",
    "# 2. Groups the matches by Local Authority\n",
    "# 3. Sorts the matches from highest to lowest\n",
    "pipeline = [\n",
    "    {\n",
    "        \"$match\": {\"scores.Hygiene\": 0}\n",
    "    },\n",
    "    {\n",
    "        \"$group\": {\n",
    "            \"_id\": \"$LocalAuthorityName\",\n",
    "            \"count\": {\"$sum\": 1}\n",
    "        }\n",
    "    },\n",
    "    {\n",
    "        \"$sort\": {\"count\": -1}\n",
    "    }\n",
    "]\n",
    "result = list(establishments.aggregate(pipeline))\n",
    "\n",
    "# Print the number of documents in the result\n",
    "total_count = establishments.count_documents({\"scores.Hygiene\": 0})\n",
    "print(total_count)\n",
    "# Print the first 10 results\n",
    "pprint(result[:10])\n"
   ]
  },
  {
   "cell_type": "code",
   "execution_count": 180,
   "id": "d8aab364",
   "metadata": {},
   "outputs": [
    {
     "name": "stdout",
     "output_type": "stream",
     "text": [
      "55\n"
     ]
    },
    {
     "data": {
      "text/html": [
       "<div>\n",
       "<style scoped>\n",
       "    .dataframe tbody tr th:only-of-type {\n",
       "        vertical-align: middle;\n",
       "    }\n",
       "\n",
       "    .dataframe tbody tr th {\n",
       "        vertical-align: top;\n",
       "    }\n",
       "\n",
       "    .dataframe thead th {\n",
       "        text-align: right;\n",
       "    }\n",
       "</style>\n",
       "<table border=\"1\" class=\"dataframe\">\n",
       "  <thead>\n",
       "    <tr style=\"text-align: right;\">\n",
       "      <th></th>\n",
       "      <th>_id</th>\n",
       "      <th>count</th>\n",
       "    </tr>\n",
       "  </thead>\n",
       "  <tbody>\n",
       "    <tr>\n",
       "      <th>0</th>\n",
       "      <td>Thanet</td>\n",
       "      <td>1130</td>\n",
       "    </tr>\n",
       "    <tr>\n",
       "      <th>1</th>\n",
       "      <td>Greenwich</td>\n",
       "      <td>882</td>\n",
       "    </tr>\n",
       "    <tr>\n",
       "      <th>2</th>\n",
       "      <td>Maidstone</td>\n",
       "      <td>713</td>\n",
       "    </tr>\n",
       "    <tr>\n",
       "      <th>3</th>\n",
       "      <td>Newham</td>\n",
       "      <td>711</td>\n",
       "    </tr>\n",
       "    <tr>\n",
       "      <th>4</th>\n",
       "      <td>Swale</td>\n",
       "      <td>686</td>\n",
       "    </tr>\n",
       "    <tr>\n",
       "      <th>5</th>\n",
       "      <td>Chelmsford</td>\n",
       "      <td>680</td>\n",
       "    </tr>\n",
       "    <tr>\n",
       "      <th>6</th>\n",
       "      <td>Medway</td>\n",
       "      <td>672</td>\n",
       "    </tr>\n",
       "    <tr>\n",
       "      <th>7</th>\n",
       "      <td>Bexley</td>\n",
       "      <td>607</td>\n",
       "    </tr>\n",
       "    <tr>\n",
       "      <th>8</th>\n",
       "      <td>Southend-On-Sea</td>\n",
       "      <td>586</td>\n",
       "    </tr>\n",
       "    <tr>\n",
       "      <th>9</th>\n",
       "      <td>Tendring</td>\n",
       "      <td>542</td>\n",
       "    </tr>\n",
       "  </tbody>\n",
       "</table>\n",
       "</div>"
      ],
      "text/plain": [
       "               _id  count\n",
       "0           Thanet   1130\n",
       "1        Greenwich    882\n",
       "2        Maidstone    713\n",
       "3           Newham    711\n",
       "4            Swale    686\n",
       "5       Chelmsford    680\n",
       "6           Medway    672\n",
       "7           Bexley    607\n",
       "8  Southend-On-Sea    586\n",
       "9         Tendring    542"
      ]
     },
     "execution_count": 180,
     "metadata": {},
     "output_type": "execute_result"
    }
   ],
   "source": [
    "# Convert the result to a Pandas DataFrame\n",
    "df = pd.DataFrame(result)\n",
    "# Display the number of rows in the DataFrame\n",
    "num_rows = (len(df))\n",
    "print(num_rows)\n",
    "# Display the first 10 rows of the DataFrame\n",
    "df.head(10)"
   ]
  }
 ],
 "metadata": {
  "kernelspec": {
   "display_name": "Python 3 (ipykernel)",
   "language": "python",
   "name": "python3"
  },
  "language_info": {
   "codemirror_mode": {
    "name": "ipython",
    "version": 3
   },
   "file_extension": ".py",
   "mimetype": "text/x-python",
   "name": "python",
   "nbconvert_exporter": "python",
   "pygments_lexer": "ipython3",
   "version": "3.10.4"
  }
 },
 "nbformat": 4,
 "nbformat_minor": 5
}
